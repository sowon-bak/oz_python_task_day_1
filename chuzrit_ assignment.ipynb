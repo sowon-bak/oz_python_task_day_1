{
 "cells": [
  {
   "cell_type": "code",
   "execution_count": 3,
   "id": "523d0625",
   "metadata": {},
   "outputs": [
    {
     "name": "stdout",
     "output_type": "stream",
     "text": [
      "h\n",
      "n\n"
     ]
    }
   ],
   "source": [
    "word = \"Python\"\n",
    "# 예상 결과: h\n",
    "# 예상 결과: n\n",
    "\n",
    "# 여기에 코드 작성\n",
    "print(word[3])\n",
    "print(word[-1])\n"
   ]
  },
  {
   "cell_type": "code",
   "execution_count": 4,
   "id": "91d21acc",
   "metadata": {},
   "outputs": [
    {
     "name": "stdout",
     "output_type": "stream",
     "text": [
      "30\n",
      "10\n"
     ]
    }
   ],
   "source": [
    "numbers = [10, 20, 30, 40, 50]\n",
    "# 예상 결과: 30\n",
    "# 예상 결과: 10\n",
    "\n",
    "# 여기에 코드 작성\n",
    "print(numbers[2])\n",
    "print(numbers[0])\n"
   ]
  },
  {
   "cell_type": "code",
   "execution_count": 8,
   "id": "3e0bdd0f",
   "metadata": {},
   "outputs": [
    {
     "name": "stdout",
     "output_type": "stream",
     "text": [
      "Pyt\n",
      "thon\n"
     ]
    }
   ],
   "source": [
    "text = \"Python\"\n",
    "# 예상 결과: Pyt\n",
    "# 예상 결과: thon\n",
    "\n",
    "\n",
    "# 여기에 코드 작성\n",
    "print(text[0:3])\n",
    "print(text[2:])\n"
   ]
  },
  {
   "cell_type": "code",
   "execution_count": 16,
   "id": "001cd031",
   "metadata": {},
   "outputs": [
    {
     "name": "stdout",
     "output_type": "stream",
     "text": [
      "[20, 30, 40]\n",
      "[50, 40, 30, 20, 10]\n"
     ]
    }
   ],
   "source": [
    "data = [10, 20, 30, 40, 50]\n",
    "# 예상 결과: [20, 30, 40]\n",
    "# 예상 결과: [50, 40, 30, 20, 10]\n",
    "\n",
    "# 여기에 코드 작성\n",
    "print(data[1:4])\n",
    "data.reverse()\n",
    "print(data)\n"
   ]
  }
 ],
 "metadata": {
  "kernelspec": {
   "display_name": "Python 3",
   "language": "python",
   "name": "python3"
  },
  "language_info": {
   "codemirror_mode": {
    "name": "ipython",
    "version": 3
   },
   "file_extension": ".py",
   "mimetype": "text/x-python",
   "name": "python",
   "nbconvert_exporter": "python",
   "pygments_lexer": "ipython3",
   "version": "3.9.6"
  }
 },
 "nbformat": 4,
 "nbformat_minor": 5
}
